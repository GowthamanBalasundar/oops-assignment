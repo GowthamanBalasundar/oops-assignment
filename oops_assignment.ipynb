{
  "nbformat": 4,
  "nbformat_minor": 0,
  "metadata": {
    "colab": {
      "provenance": []
    },
    "kernelspec": {
      "name": "python3",
      "display_name": "Python 3"
    },
    "language_info": {
      "name": "python"
    }
  },
  "cells": [
    {
      "cell_type": "markdown",
      "source": [
        "Name: Gowthaman Balasundar\n",
        "\n",
        "Email: gowthamanbalasundar@gmail.com"
      ],
      "metadata": {
        "id": "j-UCtM9UGVsy"
      }
    },
    {
      "cell_type": "markdown",
      "source": [
        "**THEORY ASSIGNMENT:**"
      ],
      "metadata": {
        "id": "DEuXDD0yKixo"
      }
    },
    {
      "cell_type": "markdown",
      "source": [
        "**1. What is Object-Oriented Programming (OOP)?**\n",
        "\n",
        "Object-Oriented Programming (OOP) is a programming paradigm based on the concept of \"objects,\" which can contain data (attributes or properties) and code (methods or functions) that operate on that data. The core idea is to model real-world entities as software objects, promoting modularity, reusability, and maintainability in software development. Key principles of OOP include encapsulation, inheritance, polymorphism, and abstraction.\n",
        "\n",
        "**2. What is a class in OOP?**\n",
        "\n",
        "A class in OOP is a blueprint or a template for creating objects. It defines a set of attributes (data) and methods (functions) that all objects of that class will possess. It doesn't hold any actual data itself; rather, it describes the structure and behavior that objects created from it will have.\n",
        "\n",
        "**3. What is an object in OOP?**\n",
        "\n",
        "An object in OOP is an instance of a class. It is a concrete entity created from the class blueprint, possessing the attributes and behaviors defined by its class. Each object has its own unique state (values of its attributes) and can perform actions (invoke its methods).\n",
        "\n",
        "**4. What is the difference between abstraction and encapsulation?**\n",
        "\n",
        "•\tAbstraction: Abstraction focuses on hiding the complex implementation details and showing only the essential features of an object. It provides a simplified view of an object, allowing users to interact with it without needing to know how it works internally. Think of it as a remote control for a TV – you interact with buttons (abstracted functionalities) without knowing the intricate circuits inside.\n",
        "\n",
        "•\tEncapsulation: Encapsulation is the bundling of data (attributes) and methods (functions) that operate on that data into a single unit (a class). It also involves restricting direct access to some of an object's components, meaning that the internal state of an object is protected from direct external manipulation. Instead, access is provided through defined public methods, ensuring data integrity.\n",
        "While related, they serve different purposes: abstraction is about what an object does, while encapsulation is about how the internal state and behavior are managed and protected.\n",
        "\n",
        "**5. What are dunder methods in Python?**\n",
        "\n",
        "Dunder methods, also known as \"magic methods\" or \"special methods,\" are methods in Python that have double underscores (__) at the beginning and end of their names (e.g., __init__, __str__, __add__). These methods are not meant to be called directly by the programmer but are invoked automatically by Python in specific situations. They allow classes to implement certain behaviors with built-in functions and operators, enabling features like operator overloading, custom string representation, object initialization, etc.\n",
        "**6. Explain the concept of inheritance in OOP.**\n",
        "\n",
        "Inheritance is a fundamental OOP principle that allows a new class (subclass or derived class) to inherit attributes and methods from an existing class (superclass or base class). This promotes code reusability, as common functionalities can be defined once in the base class and then extended or specialized by subclasses. It establishes an \"is-a\" relationship (e.g., a \"Car\" is a \"Vehicle\").\n",
        "**7. What is polymorphism in OOP?**\n",
        "\n",
        "Polymorphism (meaning \"many forms\") is the ability of objects of different classes to respond to the same method call in their own specific way. It allows you to treat objects of different types uniformly through a common interface. In OOP, polymorphism is often achieved through method overriding (subclasses providing their own implementation of a method defined in the superclass) and method overloading (though Python doesn't support true method overloading in the traditional sense based on different signatures).\n",
        "\n",
        "**8. How is encapsulation achieved in Python?**\n",
        "\n",
        "In Python, encapsulation is achieved primarily through conventions, rather than strict access modifiers like public, private, or protected found in some other languages (e.g., Java, C++).\n",
        "•\tConvention of Underscores:\n",
        "o\tSingle leading underscore (_name): This indicates to other developers that the attribute or method is intended for internal use within the class or module and should not be accessed directly from outside. It's a \"weak internal use indicator.\"\n",
        "o\tDouble leading underscore (__name): This triggers \"name mangling,\" where the Python interpreter changes the name of the attribute/method (e.g., _ClassName__name). This makes it harder (though not impossible) to access from outside the class, effectively making it \"private\" to the class to avoid naming conflicts in inheritance scenarios.\n",
        "•\tGetters and Setters: While not strictly enforced, Python developers often use getter and setter methods to control access to attributes, allowing for validation or other logic when attributes are read or modified. The @property decorator is a more \"Pythonic\" way to achieve this.\n",
        "\n",
        "**9. What is a constructor in Python?**\n",
        "\n",
        "In Python, a constructor is a special method named __init__. It is automatically called when a new object of a class is created (instantiated). Its primary purpose is to initialize the attributes (state) of the newly created object. It takes self as its first argument, referring to the instance being created, and can accept other arguments to set initial values for the object's attributes.\n",
        "\n",
        "**10. What are class and static methods in Python?**\n",
        "•\tClass Methods (@classmethod):\n",
        "o\tDecorated with @classmethod.\n",
        "o\tThe first argument is cls, which refers to the class itself (not the instance).\n",
        "o\tCan access and modify class-level attributes.\n",
        "o\tCan be called on both the class and instances of the class.\n",
        "o\tOften used for factory methods or methods that operate on the class's state.\n",
        "•\tStatic Methods (@staticmethod):\n",
        "o\tDecorated with @staticmethod.\n",
        "o\tDo not take self or cls as their first argument.\n",
        "o\tThey are essentially regular functions placed within a class's namespace.\n",
        "o\tCannot access or modify instance or class attributes.\n",
        "o\tCannot modify the object state or class state.\n",
        "o\tUsed for utility functions that logically belong to the class but don't need access to instance or class-specific data.\n",
        "\n",
        "**11. What is method overloading in Python?**\n",
        "\n",
        "True method overloading (where multiple methods with the same name but different parameter signatures exist within the same class) is not directly supported in Python in the same way it is in languages like Java or C++.\n",
        "If you define multiple methods with the same name in a Python class, the last one defined will simply override the previous ones.\n",
        "However, you can achieve similar functionality using:\n",
        "•\tDefault argument values: Provide default values for parameters, allowing the method to be called with varying numbers of arguments.\n",
        "•\tVariable-length arguments (*args and **kwargs): Allow a method to accept an arbitrary number of positional or keyword arguments.\n",
        "•\tConditional logic: Use if/else statements within a single method to handle different argument types or counts.\n",
        "\n",
        "**12. What is method overriding in OOP?**\n",
        "\n",
        "Method overriding is a feature in OOP where a subclass provides its own specific implementation of a method that is already defined in its superclass. When the method is called on an object of the subclass, the subclass's version of the method is executed instead of the superclass's. This allows subclasses to specialize or modify the behavior inherited from their parents, contributing to polymorphism.\n",
        "\n",
        "**13. What is a property decorator in Python?**\n",
        "\n",
        "The @property decorator in Python is a built-in decorator that provides a \"Pythonic\" way to define getter, setter, and deleter methods for attributes. It allows you to access methods as if they were attributes, providing a clean interface while still allowing you to control how an attribute is accessed, modified, or deleted. It helps enforce encapsulation and data validation without exposing the underlying implementation details.\n",
        "\n",
        "**14. Why is polymorphism important in OOP?**\n",
        "\n",
        "Polymorphism is crucial in OOP for several reasons:\n",
        "•\tFlexibility and Extensibility: It allows you to write more generic and flexible code that can work with objects of different types, as long as they share a common interface.\n",
        "•\tCode Reusability: You can reuse the same code (e.g., a function) to operate on different types of objects without needing to write type-specific logic.\n",
        "•\tSimplified Maintenance: Changes to specific implementations only affect the individual classes, not the code that interacts with them through the polymorphic interface.\n",
        "•\tDecoupling: It reduces the coupling between different parts of your code, making it easier to modify and extend the system.\n",
        "•\tCleaner Code: It leads to more readable and maintainable code by eliminating the need for long if-elif-else chains or switch statements to handle different object types.\n",
        "\n",
        "**15. What is an abstract class in Python?**\n",
        "\n",
        "An abstract class is a class that cannot be instantiated directly. Its primary purpose is to define a common interface (a set of abstract methods) that its concrete subclasses must implement. Abstract methods are declared but do not have an implementation in the abstract class itself.\n",
        "In Python, you create abstract classes using the abc (Abstract Base Classes) module and the @abstractmethod decorator. Abstract classes enforce a contract, ensuring that any class inheriting from them provides implementations for the defined abstract methods.\n",
        "\n",
        "**16. What are the advantages of OOP?**\n",
        "\n",
        "The advantages of OOP include:\n",
        "•\tModularity: Code is organized into self-contained objects, making it easier to understand, manage, and debug.\n",
        "•\tReusability: Inheritance allows code to be reused, reducing redundancy and development time.\n",
        "•\tMaintainability: Changes in one part of the code are less likely to affect other parts, simplifying maintenance and updates.\n",
        "•\tFlexibility and Scalability: OOP systems are generally more adaptable to changes and easier to extend with new features.\n",
        "•\tProblem Solving: It provides a natural way to model real-world problems, making complex systems easier to design and implement.\n",
        "•\tEnhanced Security (through Encapsulation): Data is protected from unauthorized access or modification.\n",
        "\n",
        "**17. What is the difference between a class variable and an instance variable?**\n",
        "\n",
        "•\tClass Variable:\n",
        "o\tDeclared directly inside the class but outside any methods.\n",
        "o\tShared by all instances of the class.\n",
        "o\tChanges to a class variable affect all instances.\n",
        "o\tAccessed using the class name (e.g., ClassName.variable) or instance name (though generally preferred via class name for clarity).\n",
        "•\tInstance Variable:\n",
        "o\tDeclared inside a method (usually __init__) using self.variable_name.\n",
        "o\tEach instance of the class has its own separate copy of the instance variable.\n",
        "o\tChanges to an instance variable only affect that specific instance.\n",
        "o\tAccessed using the instance name (e.g., object_name.variable).\n",
        "\n",
        "**18. What is multiple inheritance in Python?**\n",
        "\n",
        "Multiple inheritance is a feature in OOP where a class can inherit from multiple parent classes. This means the subclass inherits attributes and methods from all its parent classes.\n",
        "Python supports multiple inheritance, allowing a class to combine functionalities from several sources. However, it can sometimes lead to complexities like the \"diamond problem\" (where a method is inherited from two different paths, leading to ambiguity), which Python resolves using the Method Resolution Order (MRO).\n",
        "\n",
        "**19. Explain the purpose of __str__ and __repr__ methods in Python.**\n",
        "\n",
        "Both __str__ and __repr__ are dunder methods used for providing string representations of objects, but they serve different purposes:\n",
        "•\t__str__(self):\n",
        "o\tPurpose: Provides a human-readable string representation of an object.\n",
        "o\tAudience: Intended for end-users, for display purposes (e.g., printing an object).\n",
        "o\tOutput: Should be clear and concise.\n",
        "o\tCalled by: str(), print(), format().\n",
        "•\t__repr__(self):\n",
        "o\tPurpose: Provides an \"official\" or unambiguous string representation of an object.\n",
        "o\tAudience: Intended for developers, for debugging and introspection.\n",
        "o\tOutput: Should ideally be a string that, if passed to eval(), would recreate the object.\n",
        "o\tCalled by: repr(), and automatically when an object is displayed in an interactive interpreter (if __str__ is not defined).\n",
        "In general, it's good practice to implement both. If __str__ is not defined, __repr__ will be used as a fallback for str().\n",
        "\n",
        "**20. What is the significance of the super() function in Python?**\n",
        "\n",
        "The super() function in Python is used to call methods and access attributes of a parent or sibling class in an inheritance hierarchy. Its primary significance lies in:\n",
        "•\tCalling Parent Constructors: It's commonly used in the __init__ method of a subclass to call the __init__ method of its parent class, ensuring that the parent class's attributes are properly initialized.\n",
        "•\tAccessing Overridden Methods: When a subclass overrides a method from its superclass, super() allows you to explicitly call the superclass's implementation of that method within the subclass's method.\n",
        "•\tMethod Resolution Order (MRO): In multiple inheritance, super() respects the MRO, ensuring that methods are called in the correct order across the inheritance chain, even with complex hierarchies. It provides a cooperative way for classes to work together in a hierarchy.\n",
        "\n",
        "**21. What is the significance of the __del__ method in Python?**\n",
        "\n",
        "The __del__ method, also known as the destructor, is a dunder method in Python that is called when an object is about to be \"destroyed\" or garbage-collected. Its significance is:\n",
        "•\tResource Cleanup: It's used to perform cleanup operations before an object is completely removed from memory. This might include closing open files, releasing network connections, or freeing up other external resources that the object might be holding.\n",
        "Important Considerations:\n",
        "•\t__del__ is not guaranteed to be called immediately when an object goes out of scope, as Python's garbage collector determines when objects are truly no longer referenced.\n",
        "•\tRelying heavily on __del__ for critical resource management is often discouraged in favor of with statements and context managers, which provide more deterministic resource release.\n",
        "•\tThe gc module (garbage collection) can influence when __del__ is called.\n",
        "\n",
        "**22. What is the difference between @staticmethod and @classmethod in Python?**\n",
        "This question was addressed in point 10. To reiterate:\n",
        "•\t@staticmethod: Does not receive self or cls. It's a regular function within a class, useful for utility methods that don't need access to instance or class state.\n",
        "•\t@classmethod: Receives cls as its first argument (the class itself). It can access and modify class-level attributes and is often used for factory methods or methods that operate on the class rather than a specific instance.\n",
        "\n",
        "**23. How does polymorphism work in Python with inheritance?**\n",
        "In Python, polymorphism with inheritance primarily works through method overriding.\n",
        "When you have a base class and one or more derived classes, and each of these classes has a method with the same name:\n",
        "1.\tCommon Interface: The base class defines a method, establishing a common interface.\n",
        "2.\tSubclass Specialization: Subclasses can override this method, providing their own specific implementations.\n",
        "3.\tDynamic Dispatch: When you call this method on an object, Python dynamically determines which implementation to execute based on the actual type of the object at runtime, not its declared type (if any).\n",
        "This allows you to write code that operates on objects of the base class type, but when the code is executed, the appropriate specialized method from the derived class is invoked.\n",
        "Example:\n",
        "\n",
        "            class Animal:\n",
        "               def make_sound(self):\n",
        "                print(\"Generic animal sound\")\n",
        "\n",
        "            class Dog(Animal):\n",
        "             def make_sound(self):\n",
        "               print(\"Woof!\")\n",
        "\n",
        "            class Cat(Animal):\n",
        "              def make_sound(self):\n",
        "                print(\"Meow!\")\n",
        "\n",
        "            def animal_party(animal):\n",
        "            animal.make_sound()\n",
        "\n",
        "            dog = Dog()\n",
        "            cat = Cat()\n",
        "            animal = Animal()\n",
        "\n",
        "            animal_party(dog)   # Output: Woof!\n",
        "            animal_party(cat)   # Output: Meow!\n",
        "            animal_party(animal) # Output: Generic animal sound\n",
        "\n",
        "Here, animal_party works polymorphically because Dog and Cat objects, though different types, respond to make_sound() in their unique ways.\n",
        "\n",
        "\n",
        "**24. What is method chaining in Python OOP?**\n",
        "\n",
        "Method chaining is a programming technique where multiple method calls are strung together on the same object in a single line of code. This is possible when each method in the chain returns the object itself (self), allowing the next method call to operate on the modified object.\n",
        "Method chaining often leads to more concise and readable code, especially when performing a series of operations on an object.\n",
        "\n",
        "Example:\n",
        "\n",
        "class Calculator:\n",
        "    def __init__(self, value=0):\n",
        "        self.value = value\n",
        "\n",
        "    def add(self, num):\n",
        "        self.value += num\n",
        "        return self # Returns self to allow chaining\n",
        "\n",
        "    def subtract(self, num):\n",
        "        self.value -= num\n",
        "        return self # Returns self\n",
        "\n",
        "    def multiply(self, num):\n",
        "        self.value *= num\n",
        "        return self # Returns self\n",
        "\n",
        "    def get_result(self):\n",
        "        return self.value\n",
        "\n",
        "    calc = Calculator(10)\n",
        "    result = calc.add(5).subtract(2).multiply(3).get_result()\n",
        "    print(result) # Output: 39 ( (10 + 5 - 2) * 3 )\n",
        "\n",
        "\n",
        "**25. What is the purpose of the __call__ method in Python?**\n",
        "\n",
        "The __call__ method is a dunder method that, when defined in a class, makes instances of that class callable like functions. If an object's class defines __call__, then object() (where object is an instance of the class) will invoke the __call__ method.\n",
        "Purpose:\n",
        "•\tCreating Callable Objects: It allows you to create objects that behave like functions, which can be useful for creating closures, decorators, or objects that represent a specific operation.\n",
        "•\tStateful Functions: Unlike regular functions, callable objects can maintain internal state across calls, making them useful for scenarios where you need a function-like entity with persistent data.\n",
        "Example:\n",
        "\n",
        "    class Multiplier:\n",
        "      def __init__(self, factor):\n",
        "         self.factor = factor\n",
        "\n",
        "      def __call__(self, number):\n",
        "         return number * self.factor\n",
        "\n",
        "    double = Multiplier(2)\n",
        "\n",
        "    triple = Multiplier(3)\n",
        "\n",
        "    print(double(10))\n",
        "\n",
        "    #Output: 20\n",
        "\n",
        "    print(triple(7))\n",
        "\n",
        "    #Output: 21\n",
        "\n",
        "The instances 'double' and 'triple' are now callable.\n"
      ],
      "metadata": {
        "id": "-lpQxLZHGZYB"
      }
    },
    {
      "cell_type": "markdown",
      "source": [
        "--------------------------------------------------------------------------------"
      ],
      "metadata": {
        "id": "xaob1pdHMtwh"
      }
    },
    {
      "cell_type": "markdown",
      "source": [
        "**PRACTICAL ASSIGNMENT:**"
      ],
      "metadata": {
        "id": "ZD2Ddm3mLGK3"
      }
    },
    {
      "cell_type": "code",
      "source": [
        "#1. Create a parent class Animal with a method speak() that prints a generic message. Create a child class Dog that overrides the speak() method to print \"Bark!\".\n",
        "\n",
        "\n",
        "\n",
        "class Animal:\n",
        "    def speak(self):\n",
        "        print(\"A generic animal sound.\")\n",
        "\n",
        "class Dog(Animal):\n",
        "    def speak(self):\n",
        "        print(\"Bark!\")\n",
        "\n",
        "# Demonstrate\n",
        "animal = Animal()\n",
        "dog = Dog()\n",
        "\n",
        "animal.speak() # Output: A generic animal sound.\n",
        "dog.speak()    # Output: Bark!\n"
      ],
      "metadata": {
        "colab": {
          "base_uri": "https://localhost:8080/"
        },
        "id": "AoQIcz7nGSm3",
        "outputId": "5b830f34-95dc-4d51-cc47-d3fb3300e06b"
      },
      "execution_count": 2,
      "outputs": [
        {
          "output_type": "stream",
          "name": "stdout",
          "text": [
            "A generic animal sound.\n",
            "Bark!\n"
          ]
        }
      ]
    },
    {
      "cell_type": "code",
      "source": [
        "#2. Write a program to create an abstract class Shape with a method area(). Derive classes Circle and Rectangle from it and implement the area() method in both.\n",
        "\n",
        "\n",
        "\n",
        "from abc import ABC, abstractmethod\n",
        "import math\n",
        "\n",
        "class Shape(ABC):\n",
        "    @abstractmethod\n",
        "    def area(self):\n",
        "        pass\n",
        "\n",
        "class Circle(Shape):\n",
        "    def __init__(self, radius):\n",
        "        self.radius = radius\n",
        "\n",
        "    def area(self):\n",
        "        return math.pi * self.radius**2\n",
        "\n",
        "class Rectangle(Shape):\n",
        "    def __init__(self, length, width):\n",
        "        self.length = length\n",
        "        self.width = width\n",
        "\n",
        "    def area(self):\n",
        "        return self.length * self.width\n",
        "\n",
        "# Demonstrate\n",
        "circle = Circle(5)\n",
        "rectangle = Rectangle(4, 6)\n",
        "\n",
        "print(f\"Area of Circle: {circle.area():.2f}\")     # Output: Area of Circle: 78.54\n",
        "print(f\"Area of Rectangle: {rectangle.area()}\") # Output: Area of Rectangle: 24\n"
      ],
      "metadata": {
        "colab": {
          "base_uri": "https://localhost:8080/"
        },
        "id": "ZFznUlPbCxqo",
        "outputId": "ac7967e8-2a79-4d33-e5cc-c795f884e9c1"
      },
      "execution_count": null,
      "outputs": [
        {
          "output_type": "stream",
          "name": "stdout",
          "text": [
            "Area of Circle: 78.54\n",
            "Area of Rectangle: 24\n"
          ]
        }
      ]
    },
    {
      "cell_type": "code",
      "source": [
        "#3. Implement a multi-level inheritance scenario where a class Vehicle has an attribute type. Derive a class Car and further derive a class ElectricCar that adds a battery attribute.\n",
        "\n",
        "\n",
        "\n",
        "class Vehicle:\n",
        "    def __init__(self, vehicle_type):\n",
        "        self.type = vehicle_type\n",
        "\n",
        "    def get_vehicle_info(self):\n",
        "        return f\"Vehicle Type: {self.type}\"\n",
        "\n",
        "class Car(Vehicle):\n",
        "    def __init__(self, vehicle_type, brand):\n",
        "        super().__init__(vehicle_type)\n",
        "        self.brand = brand\n",
        "\n",
        "    def get_car_info(self):\n",
        "        return f\"{self.get_vehicle_info()}, Brand: {self.brand}\"\n",
        "\n",
        "class ElectricCar(Car):\n",
        "    def __init__(self, vehicle_type, brand, battery_kwh):\n",
        "        super().__init__(vehicle_type, brand)\n",
        "        self.battery_kwh = battery_kwh\n",
        "\n",
        "    def get_electric_car_info(self):\n",
        "        return f\"{self.get_car_info()}, Battery (kWh): {self.battery_kwh}\"\n",
        "\n",
        "# Demonstrate\n",
        "vehicle = Vehicle(\"Generic\")\n",
        "car = Car(\"Sedan\", \"Toyota\")\n",
        "electric_car = ElectricCar(\"SUV\", \"Tesla\", 75)\n",
        "\n",
        "print(vehicle.get_vehicle_info())        # Output: Vehicle Type: Generic\n",
        "print(car.get_car_info())                # Output: Vehicle Type: Sedan, Brand: Toyota\n",
        "print(electric_car.get_electric_car_info()) # Output: Vehicle Type: SUV, Brand: Tesla, Battery (kWh): 75\n"
      ],
      "metadata": {
        "colab": {
          "base_uri": "https://localhost:8080/"
        },
        "id": "ntY73E4HC-MH",
        "outputId": "f270fb42-5a03-4ee7-d5dc-39ddb632ef4b"
      },
      "execution_count": null,
      "outputs": [
        {
          "output_type": "stream",
          "name": "stdout",
          "text": [
            "Vehicle Type: Generic\n",
            "Vehicle Type: Sedan, Brand: Toyota\n",
            "Vehicle Type: SUV, Brand: Tesla, Battery (kWh): 75\n"
          ]
        }
      ]
    },
    {
      "cell_type": "code",
      "source": [
        "#4. Demonstrate polymorphism by creating a base class Bird with a method fly(). Create two derived classes Sparrow and Penguin that override the fly() method.\n",
        "\n",
        "\n",
        "\n",
        "class Bird:\n",
        "    def fly(self):\n",
        "        print(\"Most birds can fly.\")\n",
        "\n",
        "class Sparrow(Bird):\n",
        "    def fly(self):\n",
        "        print(\"Sparrows fly with quick wingbeats.\")\n",
        "\n",
        "class Penguin(Bird):\n",
        "    def fly(self):\n",
        "        print(\"Penguins cannot fly, but they are excellent swimmers!\")\n",
        "\n",
        "# Demonstrate polymorphism\n",
        "def make_bird_fly(bird):\n",
        "    bird.fly()\n",
        "\n",
        "bird = Bird()\n",
        "sparrow = Sparrow()\n",
        "penguin = Penguin()\n",
        "\n",
        "make_bird_fly(bird)     # Output: Most birds can fly.\n",
        "make_bird_fly(sparrow)  # Output: Sparrows fly with quick wingbeats.\n",
        "make_bird_fly(penguin)  # Output: Penguins cannot fly, but they are excellent swimmers!"
      ],
      "metadata": {
        "colab": {
          "base_uri": "https://localhost:8080/"
        },
        "id": "i6IOQumSCx0k",
        "outputId": "8cafc4c3-d708-48b9-cb18-1776e77f8cfa"
      },
      "execution_count": null,
      "outputs": [
        {
          "output_type": "stream",
          "name": "stdout",
          "text": [
            "Most birds can fly.\n",
            "Sparrows fly with quick wingbeats.\n",
            "Penguins cannot fly, but they are excellent swimmers!\n"
          ]
        }
      ]
    },
    {
      "cell_type": "code",
      "source": [
        "#5. Write a program to demonstrate encapsulation by creating a class BankAccount with private attributes balance and methods to deposit, withdraw, and check balance.\n",
        "\n",
        "\n",
        "class BankAccount:\n",
        "    def __init__(self, initial_balance=0):\n",
        "        # Using double underscore for name mangling to indicate \"private\"\n",
        "        self.__balance = initial_balance\n",
        "        print(f\"Account created with initial balance: {self.__balance}\")\n",
        "\n",
        "    def deposit(self, amount):\n",
        "        if amount > 0:\n",
        "            self.__balance += amount\n",
        "            print(f\"Deposited {amount}. New balance: {self.__balance}\")\n",
        "        else:\n",
        "            print(\"Deposit amount must be positive.\")\n",
        "\n",
        "    def withdraw(self, amount):\n",
        "        if amount > 0:\n",
        "            if self.__balance >= amount:\n",
        "                self.__balance -= amount\n",
        "                print(f\"Withdrew {amount}. New balance: {self.__balance}\")\n",
        "            else:\n",
        "                print(\"Insufficient balance.\")\n",
        "        else:\n",
        "            print(\"Withdrawal amount must be positive.\")\n",
        "\n",
        "    def check_balance(self):\n",
        "        print(f\"Current balance: {self.__balance}\")\n",
        "\n",
        "# Demonstrate\n",
        "account = BankAccount(1000)\n",
        "account.deposit(500)\n",
        "account.withdraw(200)\n",
        "account.check_balance()\n",
        "account.withdraw(1500) # Insufficient balance\n",
        "# print(account.__balance) # This would cause an AttributeError due to name mangling\n",
        "# print(account._BankAccount__balance) # This would work, showing it's not truly private"
      ],
      "metadata": {
        "colab": {
          "base_uri": "https://localhost:8080/"
        },
        "id": "9lEwMicQCx8A",
        "outputId": "47eaa04d-1e9a-4b92-8a37-141016439ad1"
      },
      "execution_count": null,
      "outputs": [
        {
          "output_type": "stream",
          "name": "stdout",
          "text": [
            "Account created with initial balance: 1000\n",
            "Deposited 500. New balance: 1500\n",
            "Withdrew 200. New balance: 1300\n",
            "Current balance: 1300\n",
            "Insufficient balance.\n"
          ]
        }
      ]
    },
    {
      "cell_type": "code",
      "source": [
        "#6. Demonstrate runtime polymorphism using a method play() in a base class Instrument. Derive classes Guitar and Piano that implement their own version of play().\n",
        "\n",
        "\n",
        "\n",
        "class Instrument:\n",
        "    def play(self):\n",
        "        print(\"An instrument is playing a sound.\")\n",
        "\n",
        "class Guitar(Instrument):\n",
        "    def play(self):\n",
        "        print(\"The guitar is strumming a melody.\")\n",
        "\n",
        "class Piano(Instrument):\n",
        "    def play(self):\n",
        "        print(\"The piano is playing harmonious chords.\")\n",
        "\n",
        "# Demonstrate runtime polymorphism\n",
        "def concert(instrument):\n",
        "    instrument.play()\n",
        "\n",
        "guitar = Guitar()\n",
        "piano = Piano()\n",
        "instrument = Instrument()\n",
        "\n",
        "concert(guitar)   # Output: The guitar is strumming a melody.\n",
        "concert(piano)    # Output: The piano is playing harmonious chords.\n",
        "concert(instrument) # Output: An instrument is playing a sound."
      ],
      "metadata": {
        "colab": {
          "base_uri": "https://localhost:8080/"
        },
        "id": "8_3XI5dxCx_z",
        "outputId": "89f57a8f-aaf0-4e11-9dd5-eadd75d843a2"
      },
      "execution_count": null,
      "outputs": [
        {
          "output_type": "stream",
          "name": "stdout",
          "text": [
            "The guitar is strumming a melody.\n",
            "The piano is playing harmonious chords.\n",
            "An instrument is playing a sound.\n"
          ]
        }
      ]
    },
    {
      "cell_type": "code",
      "source": [
        "#7. Create a class MathOperations with a class method add_numbers() to add two numbers and a static method subtract_numbers() to subtract two numbers.\n",
        "\n",
        "\n",
        "\n",
        "class MathOperations:\n",
        "    @classmethod\n",
        "    def add_numbers(cls, a, b):\n",
        "        print(f\"Adding using class method: {a} + {b} = {a + b}\")\n",
        "        return a + b\n",
        "\n",
        "    @staticmethod\n",
        "    def subtract_numbers(a, b):\n",
        "        print(f\"Subtracting using static method: {a} - {b} = {a - b}\")\n",
        "        return a - b\n",
        "\n",
        "# Demonstrate\n",
        "MathOperations.add_numbers(10, 5)     # Called via class\n",
        "MathOperations.subtract_numbers(10, 5) # Called via class\n",
        "\n",
        "# You can also call them via an instance, but it's less common for these types of methods\n",
        "# math_obj = MathOperations()\n",
        "# math_obj.add_numbers(20, 8)\n",
        "# math_obj.subtract_numbers(20, 8)"
      ],
      "metadata": {
        "colab": {
          "base_uri": "https://localhost:8080/"
        },
        "id": "gBeCr7H1CyCz",
        "outputId": "e0053888-909a-4210-f27d-e8b65f3e1532"
      },
      "execution_count": null,
      "outputs": [
        {
          "output_type": "stream",
          "name": "stdout",
          "text": [
            "Adding using class method: 10 + 5 = 15\n",
            "Subtracting using static method: 10 - 5 = 5\n"
          ]
        },
        {
          "output_type": "execute_result",
          "data": {
            "text/plain": [
              "5"
            ]
          },
          "metadata": {},
          "execution_count": 7
        }
      ]
    },
    {
      "cell_type": "code",
      "source": [
        "# 8. Implement a class Person with a class method to count the total number of persons created.\n",
        "\n",
        "\n",
        "\n",
        "class Person:\n",
        "    _total_persons_created = 0  # Class variable to keep count\n",
        "\n",
        "    def __init__(self, name):\n",
        "        self.name = name\n",
        "        Person._total_persons_created += 1 # Increment on each new instance\n",
        "\n",
        "    @classmethod\n",
        "    def get_total_persons(cls):\n",
        "        return cls._total_persons_created\n",
        "\n",
        "# Demonstrate\n",
        "p1 = Person(\"Alice\")\n",
        "p2 = Person(\"Bob\")\n",
        "p3 = Person(\"Charlie\")\n",
        "\n",
        "print(f\"Total persons created: {Person.get_total_persons()}\") # Output: Total persons created: 3\n",
        "\n",
        "p4 = Person(\"David\")\n",
        "print(f\"Total persons created: {Person.get_total_persons()}\") # Output: Total persons created: 4\n"
      ],
      "metadata": {
        "colab": {
          "base_uri": "https://localhost:8080/"
        },
        "id": "7dvoJU0tCyF0",
        "outputId": "0405db68-4ebe-43c8-b8c3-19624e1a886b"
      },
      "execution_count": null,
      "outputs": [
        {
          "output_type": "stream",
          "name": "stdout",
          "text": [
            "Total persons created: 3\n",
            "Total persons created: 4\n"
          ]
        }
      ]
    },
    {
      "cell_type": "code",
      "source": [
        "#9. Write a class Fraction with attributes numerator and denominator. Override the str method to display the fraction as \"numerator/denominator\".\n",
        "\n",
        "\n",
        "\n",
        "class Fraction:\n",
        "    def __init__(self, numerator, denominator):\n",
        "        if denominator == 0:\n",
        "            raise ValueError(\"Denominator cannot be zero.\")\n",
        "        self.numerator = numerator\n",
        "        self.denominator = denominator\n",
        "\n",
        "    def __str__(self):\n",
        "        return f\"{self.numerator}/{self.denominator}\"\n",
        "\n",
        "    def __repr__(self):\n",
        "        # Good practice to also include a repr for unambiguous representation\n",
        "        return f\"Fraction({self.numerator}, {self.denominator})\"\n",
        "\n",
        "# Demonstrate\n",
        "frac1 = Fraction(3, 4)\n",
        "frac2 = Fraction(1, 2)\n",
        "\n",
        "print(frac1) # Output: 3/4 (calls __str__)\n",
        "print(str(frac2)) # Output: 1/2 (explicitly calls __str__)\n",
        "\n",
        "# In an interactive interpreter, without print(), __repr__ is usually shown\n",
        "# frac1 # Output: Fraction(3, 4)\n",
        "\n",
        "\n",
        "\n"
      ],
      "metadata": {
        "colab": {
          "base_uri": "https://localhost:8080/"
        },
        "id": "I6LRhjjNCyIv",
        "outputId": "f5f95dfd-c532-47ed-d42c-a3d3f0baafc0"
      },
      "execution_count": null,
      "outputs": [
        {
          "output_type": "stream",
          "name": "stdout",
          "text": [
            "3/4\n",
            "1/2\n"
          ]
        }
      ]
    },
    {
      "cell_type": "code",
      "source": [
        "#10. Demonstrate operator overloading by creating a class Vector and overriding the add method to add two vectors.\n",
        "\n",
        "\n",
        "class Vector:\n",
        "    def __init__(self, x, y):\n",
        "        self.x = x\n",
        "        self.y = y\n",
        "\n",
        "    def __str__(self):\n",
        "        return f\"Vector({self.x}, {self.y})\"\n",
        "\n",
        "    def __add__(self, other):\n",
        "        # This method defines the behavior of the '+' operator\n",
        "        if isinstance(other, Vector):\n",
        "            new_x = self.x + other.x\n",
        "            new_y = self.y + other.y\n",
        "            return Vector(new_x, new_y)\n",
        "        else:\n",
        "            raise TypeError(\"Can only add Vector objects to a Vector.\")\n",
        "\n",
        "# Demonstrate\n",
        "v1 = Vector(2, 3)\n",
        "v2 = Vector(5, 1)\n",
        "\n",
        "v3 = v1 + v2 # Calls v1.__add__(v2)\n",
        "print(f\"Vector 1: {v1}\") # Output: Vector 1: Vector(2, 3)\n",
        "print(f\"Vector 2: {v2}\") # Output: Vector 2: Vector(5, 1)\n",
        "print(f\"Sum of Vectors: {v3}\") # Output: Sum of Vectors: Vector(7, 4)\n",
        "\n",
        "# Try adding with a non-Vector (will raise TypeError)\n",
        "try:\n",
        "    v1 + 10\n",
        "except TypeError as e:\n",
        "    print(e) # Output: Can only add Vector objects to a Vector."
      ],
      "metadata": {
        "colab": {
          "base_uri": "https://localhost:8080/"
        },
        "id": "Sa-8r3-ZCyLr",
        "outputId": "b8a0d9cc-1f22-4e9d-b2fb-8576fd679062"
      },
      "execution_count": null,
      "outputs": [
        {
          "output_type": "stream",
          "name": "stdout",
          "text": [
            "Vector 1: Vector(2, 3)\n",
            "Vector 2: Vector(5, 1)\n",
            "Sum of Vectors: Vector(7, 4)\n",
            "Can only add Vector objects to a Vector.\n"
          ]
        }
      ]
    },
    {
      "cell_type": "code",
      "source": [
        "#11. Create a class Person with attributes name and age. Add a method greet() that prints \"Hello, my name is {name} and I am {age} years old.\"\n",
        "\n",
        "\n",
        "class Person:\n",
        "    def __init__(self, name, age):\n",
        "        self.name = name\n",
        "        self.age = age\n",
        "\n",
        "    def greet(self):\n",
        "        print(f\"Hello, my name is {self.name} and I am {self.age} years old.\")\n",
        "\n",
        "# Demonstrate\n",
        "person1 = Person(\"Alice\", 30)\n",
        "person2 = Person(\"Bob\", 24)\n",
        "\n",
        "person1.greet() # Output: Hello, my name is Alice and I am 30 years old.\n",
        "person2.greet() # Output: Hello, my name is Bob and I am 24 years old."
      ],
      "metadata": {
        "colab": {
          "base_uri": "https://localhost:8080/"
        },
        "id": "ugq613skCyOj",
        "outputId": "a91b5ab1-812c-43bd-9f34-4a5055edefb5"
      },
      "execution_count": null,
      "outputs": [
        {
          "output_type": "stream",
          "name": "stdout",
          "text": [
            "Hello, my name is Alice and I am 30 years old.\n",
            "Hello, my name is Bob and I am 24 years old.\n"
          ]
        }
      ]
    },
    {
      "cell_type": "code",
      "source": [
        "#12. Implement a class Student with attributes name and grades. Create a method average_grade() to compute the average of the grades.\n",
        "\n",
        "\n",
        "\n",
        "class Student:\n",
        "    def __init__(self, name, grades):\n",
        "        self.name = name\n",
        "        # Grades should be a list or tuple of numbers\n",
        "        if not isinstance(grades, (list, tuple)):\n",
        "            raise ValueError(\"Grades must be a list or tuple.\")\n",
        "        self.grades = grades\n",
        "\n",
        "    def average_grade(self):\n",
        "        if not self.grades:\n",
        "            return 0.0 # Return 0 if no grades\n",
        "        return sum(self.grades) / len(self.grades)\n",
        "\n",
        "# Demonstrate\n",
        "student1 = Student(\"Emily\", [85, 90, 78, 92])\n",
        "student2 = Student(\"Chris\", [60, 70, 65])\n",
        "student3 = Student(\"Zoe\", [])\n",
        "\n",
        "print(f\"{student1.name}'s average grade: {student1.average_grade():.2f}\") # Output: Emily's average grade: 86.25\n",
        "print(f\"{student2.name}'s average grade: {student2.average_grade():.2f}\") # Output: Chris's average grade: 65.00\n",
        "print(f\"{student3.name}'s average grade: {student3.average_grade():.2f}\") # Output: Zoe's average grade: 0.00\n",
        "\n",
        "\n",
        "\n",
        "\n"
      ],
      "metadata": {
        "colab": {
          "base_uri": "https://localhost:8080/"
        },
        "id": "Czev2FPBCyRg",
        "outputId": "7895211b-340a-4f96-8133-4efc957fe444"
      },
      "execution_count": null,
      "outputs": [
        {
          "output_type": "stream",
          "name": "stdout",
          "text": [
            "Emily's average grade: 86.25\n",
            "Chris's average grade: 65.00\n",
            "Zoe's average grade: 0.00\n"
          ]
        }
      ]
    },
    {
      "cell_type": "code",
      "source": [
        "#13. Create a class Rectangle with methods set_dimensions() to set the dimensions and area() to calculate the area.\n",
        "\n",
        "\n",
        "class Rectangle:\n",
        "    def __init__(self, length=0, width=0):\n",
        "        self.length = length\n",
        "        self.width = width\n",
        "\n",
        "    def set_dimensions(self, length, width):\n",
        "        if length > 0 and width > 0:\n",
        "            self.length = length\n",
        "            self.width = width\n",
        "            print(f\"Dimensions set to: Length={self.length}, Width={self.width}\")\n",
        "        else:\n",
        "            print(\"Dimensions must be positive.\")\n",
        "\n",
        "    def area(self):\n",
        "        return self.length * self.width\n",
        "\n",
        "# Demonstrate\n",
        "rect1 = Rectangle()\n",
        "print(f\"Initial area: {rect1.area()}\") # Output: Initial area: 0\n",
        "\n",
        "rect1.set_dimensions(10, 5)\n",
        "print(f\"Area after setting dimensions: {rect1.area()}\") # Output: Area after setting dimensions: 50\n",
        "\n",
        "rect2 = Rectangle(7, 3)\n",
        "print(f\"Rectangle 2 area: {rect2.area()}\") # Output: Rectangle 2 area: 21"
      ],
      "metadata": {
        "colab": {
          "base_uri": "https://localhost:8080/"
        },
        "id": "91lCnHdaCyUw",
        "outputId": "22650803-5ac7-42da-8e17-767916772a8d"
      },
      "execution_count": null,
      "outputs": [
        {
          "output_type": "stream",
          "name": "stdout",
          "text": [
            "Initial area: 0\n",
            "Dimensions set to: Length=10, Width=5\n",
            "Area after setting dimensions: 50\n",
            "Rectangle 2 area: 21\n"
          ]
        }
      ]
    },
    {
      "cell_type": "code",
      "source": [
        "#14. Create a class Employee with a method calculate_salary() that computes the salary based on hours worked and hourly rate. Create a derived class Manager that adds a bonus to the salary.\n",
        "\n",
        "\n",
        "\n",
        "class Employee:\n",
        "    def __init__(self, name, hours_worked, hourly_rate):\n",
        "        self.name = name\n",
        "        self.hours_worked = hours_worked\n",
        "        self.hourly_rate = hourly_rate\n",
        "\n",
        "    def calculate_salary(self):\n",
        "        return self.hours_worked * self.hourly_rate\n",
        "\n",
        "class Manager(Employee):\n",
        "    def __init__(self, name, hours_worked, hourly_rate, bonus):\n",
        "        super().__init__(name, hours_worked, hourly_rate)\n",
        "        self.bonus = bonus\n",
        "\n",
        "    def calculate_salary(self):\n",
        "        # Call the base class method and add the bonus\n",
        "        base_salary = super().calculate_salary()\n",
        "        return base_salary + self.bonus\n",
        "\n",
        "# Demonstrate\n",
        "employee = Employee(\"John Doe\", 160, 25)\n",
        "manager = Manager(\"Jane Smith\", 160, 30, 500)\n",
        "\n",
        "print(f\"{employee.name}'s salary: ${employee.calculate_salary():.2f}\") # Output: John Doe's salary: $4000.00\n",
        "print(f\"{manager.name}'s salary: ${manager.calculate_salary():.2f}\")   # Output: Jane Smith's salary: $5300.00"
      ],
      "metadata": {
        "colab": {
          "base_uri": "https://localhost:8080/"
        },
        "id": "8ci-dvTPCyX8",
        "outputId": "50fa4ba9-c7ac-438f-f7ae-c054d98ad3a0"
      },
      "execution_count": null,
      "outputs": [
        {
          "output_type": "stream",
          "name": "stdout",
          "text": [
            "John Doe's salary: $4000.00\n",
            "Jane Smith's salary: $5300.00\n"
          ]
        }
      ]
    },
    {
      "cell_type": "code",
      "source": [
        "#15. Create a class Product with attributes name, price, and quantity. Implement a method total_price() that calculates the total price of the product.\n",
        "\n",
        "\n",
        "class Product:\n",
        "    def __init__(self, name, price, quantity):\n",
        "        self.name = name\n",
        "        if price < 0 or quantity < 0:\n",
        "            raise ValueError(\"Price and quantity must be non-negative.\")\n",
        "        self.price = price\n",
        "        self.quantity = quantity\n",
        "\n",
        "    def total_price(self):\n",
        "        return self.price * self.quantity\n",
        "\n",
        "# Demonstrate\n",
        "product1 = Product(\"Laptop\", 1200.50, 2)\n",
        "product2 = Product(\"Mouse\", 25.00, 5)\n",
        "\n",
        "print(f\"{product1.name} total price: ${product1.total_price():.2f}\") # Output: Laptop total price: $2401.00\n",
        "print(f\"{product2.name} total price: ${product2.total_price():.2f}\") # Output: Mouse total price: $125.00\n",
        "\n"
      ],
      "metadata": {
        "colab": {
          "base_uri": "https://localhost:8080/"
        },
        "id": "s1Ljp8k_EDw9",
        "outputId": "4d7d88a3-8c3c-46ff-b383-5ed1aa108476"
      },
      "execution_count": null,
      "outputs": [
        {
          "output_type": "stream",
          "name": "stdout",
          "text": [
            "Laptop total price: $2401.00\n",
            "Mouse total price: $125.00\n"
          ]
        }
      ]
    },
    {
      "cell_type": "code",
      "source": [
        "#16. Create a class Animal with an abstract method sound(). Create two derived classes Cow and Sheep that implement the sound() method.\n",
        "\n",
        "from abc import ABC, abstractmethod\n",
        "\n",
        "class Animal(ABC):\n",
        "    @abstractmethod\n",
        "    def sound(self):\n",
        "        pass\n",
        "\n",
        "class Cow(Animal):\n",
        "    def sound(self):\n",
        "        print(\"Moo!\")\n",
        "\n",
        "class Sheep(Animal):\n",
        "    def sound(self):\n",
        "        print(\"Baa!\")\n",
        "\n",
        "# Demonstrate\n",
        "# animal = Animal() # This would raise a TypeError because Animal is abstract\n",
        "\n",
        "cow = Cow()\n",
        "sheep = Sheep()\n",
        "\n",
        "cow.sound()  # Output: Moo!\n",
        "sheep.sound() # Output: Baa!"
      ],
      "metadata": {
        "colab": {
          "base_uri": "https://localhost:8080/"
        },
        "id": "eN5uba55EEK_",
        "outputId": "78063225-43e9-4f52-cd81-5269d2de4dd7"
      },
      "execution_count": null,
      "outputs": [
        {
          "output_type": "stream",
          "name": "stdout",
          "text": [
            "Moo!\n",
            "Baa!\n"
          ]
        }
      ]
    },
    {
      "cell_type": "code",
      "source": [
        "#17. Create a class Book with attributes title, author, and year_published. Add a method get_book_info() that returns a formatted string with the book's details.\n",
        "\n",
        "\n",
        "\n",
        "class Book:\n",
        "    def __init__(self, title, author, year_published):\n",
        "        self.title = title\n",
        "        self.author = author\n",
        "        self.year_published = year_published\n",
        "\n",
        "    def get_book_info(self):\n",
        "        return f\"Title: {self.title}\\nAuthor: {self.author}\\nYear Published: {self.year_published}\"\n",
        "\n",
        "# Demonstrate\n",
        "book1 = Book(\"The Hitchhiker's Guide to the Galaxy\", \"Douglas Adams\", 1979)\n",
        "book2 = Book(\"Pride and Prejudice\", \"Jane Austen\", 1813)\n",
        "\n",
        "print(\"--- Book 1 Info ---\")\n",
        "print(book1.get_book_info())\n",
        "print(\"\\n--- Book 2 Info ---\")\n",
        "print(book2.get_book_info())"
      ],
      "metadata": {
        "colab": {
          "base_uri": "https://localhost:8080/"
        },
        "id": "3qg3vKpQEEbQ",
        "outputId": "2353edbe-4489-476d-d8bd-6ed65696f98e"
      },
      "execution_count": null,
      "outputs": [
        {
          "output_type": "stream",
          "name": "stdout",
          "text": [
            "--- Book 1 Info ---\n",
            "Title: The Hitchhiker's Guide to the Galaxy\n",
            "Author: Douglas Adams\n",
            "Year Published: 1979\n",
            "\n",
            "--- Book 2 Info ---\n",
            "Title: Pride and Prejudice\n",
            "Author: Jane Austen\n",
            "Year Published: 1813\n"
          ]
        }
      ]
    },
    {
      "cell_type": "code",
      "source": [
        "#18. Create a class House with attributes address and price. Create a derived class Mansion that adds an attribute number_of_rooms.\n",
        "\n",
        "class House:\n",
        "    def __init__(self, address, price):\n",
        "        self.address = address\n",
        "        if price < 0:\n",
        "            raise ValueError(\"Price cannot be negative.\")\n",
        "        self.price = price\n",
        "\n",
        "    def get_house_info(self):\n",
        "        return f\"Address: {self.address}, Price: ${self.price:,.2f}\"\n",
        "\n",
        "class Mansion(House):\n",
        "    def __init__(self, address, price, number_of_rooms):\n",
        "        super().__init__(address, price)\n",
        "        if number_of_rooms < 1:\n",
        "            raise ValueError(\"Number of rooms must be at least 1.\")\n",
        "        self.number_of_rooms = number_of_rooms\n",
        "\n",
        "    def get_mansion_info(self):\n",
        "        return f\"{self.get_house_info()}, Rooms: {self.number_of_rooms}\"\n",
        "\n",
        "# Demonstrate\n",
        "house = House(\"123 Main St\", 250000)\n",
        "mansion = Mansion(\"789 Grand Ave\", 5000000, 15)\n",
        "\n",
        "print(house.get_house_info())   # Output: Address: 123 Main St, Price: $250,000.00\n",
        "print(mansion.get_mansion_info()) # Output: Address: 789 Grand Ave, Price: $5,000,000.00, Rooms: 15"
      ],
      "metadata": {
        "colab": {
          "base_uri": "https://localhost:8080/"
        },
        "id": "9n1-nXXtEEqU",
        "outputId": "72133d9f-ee20-43f8-d4a4-7da19d4ca431"
      },
      "execution_count": null,
      "outputs": [
        {
          "output_type": "stream",
          "name": "stdout",
          "text": [
            "Address: 123 Main St, Price: $250,000.00\n",
            "Address: 789 Grand Ave, Price: $5,000,000.00, Rooms: 15\n"
          ]
        }
      ]
    }
  ]
}